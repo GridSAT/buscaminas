{
 "cells": [
  {
   "cell_type": "markdown",
   "metadata": {},
   "source": [
    "<table>\n",
    "    <tr>\n",
    "        <td><img src=\"./img/Macc.png\" width=\"auto\"/></td>\n",
    "        <td>\n",
    "            <table><tr>\n",
    "            <h1 style=\"color:blue;text-align:center\">Lógica para Ciencias de la Computación</h1></td>\n",
    "            </tr></table>   \n",
    "        <td>&nbsp;</td>\n",
    "        <td>\n",
    "            <table><tr>\n",
    "            <tp><p style=\"font-size:150%;text-align:center\">Proyecto</p></tp>\n",
    "            <tp><p style=\"font-size:150%;text-align:center\">Buscaminas - Entrega 2</p></tp>\n",
    "            </tr></table>\n",
    "        </td>\n",
    "    </tr>\n",
    "</table>\n",
    "\n",
    "---"
   ]
  },
  {
   "cell_type": "markdown",
   "metadata": {},
   "source": [
    "# Secciones\n",
    "\n",
    "1. [Problema ilustrativo.](#prob)\n",
    "2. [Implementación de las restricciones.](#forms)"
   ]
  },
  {
   "cell_type": "markdown",
   "metadata": {},
   "source": [
    "# Buscaminas <a class=\"anchor\" id=\"prob\"></a>\n",
    "\n",
    "([Volver al inicio](#inicio))\n",
    "\n",
    "Hecho por <b>Juan David Londoño Pinzon - Juan José Zuluaga Patiño - Juan David Serna Murcia</b>\n",
    "\n",
    "Comenzaremos con el proyecto de un algoritmo que sea capaz de resolver el juego \"Buscaminas\".\n",
    "\n",
    "Los pasos que sigue el algoritmo son:\n",
    "\n",
    "1. Cada casilla del tablero que esté destapada y tenga un número en ella (los cuales van del 1 al 7) se le revisan las 8 casillas aledañas y de aquellas, las que esten tapadas (A las que se les reserva el numero 9) se tomaran como posibles minas y se les asignará una letra propsicional.\n",
    "\n",
    "2. Todas estas son revisadas por la regla, que para cada casilla destapada, saca las posibles distribuciones de minas en las casillas aledañas, esto lo hace mediante combinatorias de k minas en n posiciones (Función C_n), siendo n las casillas tapadas aledañas a la casilla, y k el numero que tiene la casilla.\n",
    "<br/>\n",
    "Para satisfacer un casilla, se debe cumplir cualquiera de sus posibles distribuciones (Otoria), y para satisfacer el problema completo se deben satisfacer todas las casillas (Ytoria), internamente cada distribucion es una Ytoria de cada átomo negadas o no, indicando si hay o no mina en esa posibilidad.\n",
    "<img src=\"./img/Regla.jpg\">\n",
    "<br/>\n",
    "<br/>\n",
    "La regla y su representación usando lógica proposicional es la siguiente:\n",
    "$$\\bigwedge_{(x,y)\\space\\in\\space Mat}\\left(\\exists Mat[x][y]\\space tq\\space (Mat[x][y]\\neq 0 \\wedge Mat[x][y]\\neq 9)\\to (\\space \\bigvee_{dist\\space\\in\\space C\\_n(x,y)}(\\bigwedge_{L\\space\\in\\space dist}L)) \\right)$$\n",
    "\n",
    "3. Despues se deben obtener todas las interpretaciones posibles, se cuentan las veces que sale cada letra con una interpretacion verdadera, entre mas interpretaciones verdaderas tengan, tendran cada vez mas probabilidad de ser minas y usando las probabilidades, se marcarían como minas o como casillas libres. Aquellas letras que no tengan un 100% o 0% de probabilidades de ser minas, se dejaran como estan y se comunica esta informacion al usuario.\n",
    "<br/>\n",
    "\n",
    "\n",
    "\n"
   ]
  },
  {
   "cell_type": "markdown",
   "metadata": {},
   "source": [
    "## Implementación de las restricciones <a class=\"anchor\" id=\"forms\"></a>\n",
    "([Volver al inicio](#inicio))\n",
    "\n",
    "En la librería `Problemas` hemos implementado las tres reglas. Puede correr el siguiente código para visualizar el resultado, y puede entrar a la librería para explorar la implementación:"
   ]
  },
  {
   "cell_type": "code",
   "execution_count": null,
   "metadata": {
    "scrolled": true
   },
   "outputs": [],
   "source": [
    "from Problemas import Tablero\n",
    "from Logica import *"
   ]
  },
  {
   "cell_type": "markdown",
   "metadata": {},
   "source": [
    "### Inicializacion de la clase tablero <a class=\"anchor\" id=\"forms\"></a>\n",
    "\n",
    "La clase `Tablero` se inicializa con el llamado de 3 variables, el largo del tablero (`length_x`, un entero), el ancho del tablero (`width_y`, un entero) y el tablero en sí (`tablero`, una matriz), dentro de la funcion define `self.Matriz` con los datos que fueron ingresados a través de la variable tablero, define `self.MenC` como un Descriptor, luego, define simplemente como `escribir` para este objeto (MenC) la función que originalmente se llama `escribir_mina`, despues inicializa y ubica en `self.matriz_minas` los atomos del descriptor que acaba de crear en la matriz que tiene guardada en y para finalizar, el inicializador guarda en `self.regla` lo que sería la suma de todas las reglas, que para este proyecto es solo una.\n",
    "\n",
    "En este caso, crearemos la clase Tablero con el tablero que se ve en la imagen como ejemplo\n",
    "\n",
    "<img src=\"./img/tablero.png\">\n",
    "\n",
    "Como se ve, hay algunas casillas que no tienen ningun número, y otras que están tapadas, esto en la matriz lo representamos con 0 para las casillas sin numero y con 9 para las casillas tapadas"
   ]
  },
  {
   "cell_type": "code",
   "execution_count": null,
   "metadata": {},
   "outputs": [],
   "source": [
    "matriz = [\n",
    "    [0, 0, 0, 1, 9, 9, 9, 9], [0, 0, 1, 2, 9, 9, 9, 9],\n",
    "    [0, 1, 2, 9, 9, 9, 9, 9], [0, 1, 9, 9, 9, 9, 9, 9],\n",
    "    [0, 1, 1, 3, 9, 9, 9, 9], [0, 0, 0, 2, 9, 9, 9, 9],\n",
    "    [1, 2, 1, 2, 9, 9, 9, 9], [9, 9, 9, 9, 9, 9, 9, 9]\n",
    "]\n",
    "\n",
    "tablero = Tablero(8, 8, matriz)"
   ]
  },
  {
   "cell_type": "markdown",
   "metadata": {},
   "source": [
    "En nuestro problema, el numero de átomos es variable y se deben crear teniendo en cuenta el tablero recibido. Este es el primer paso del algoritmo y se hace con la ayuda de la funcion `init_MenC`, esta funcion observa cada casilla del tablero que esta destapada, y crea los átomos para cada casilla tapada aledaña a estas, para relacionar el átomo con las coordenadas de su casilla, se ubican las letras proposicionales en una matriz que se usara mas adelante para la construcción de la regla."
   ]
  },
  {
   "cell_type": "code",
   "execution_count": null,
   "metadata": {},
   "outputs": [],
   "source": [
    "from Problemas import init_MenC\n",
    "\n",
    "matriz_atomos = init_MenC(tablero.MenC, matriz)\n",
    "for fila in matriz_atomos:\n",
    "    print(fila)"
   ]
  },
  {
   "cell_type": "markdown",
   "metadata": {},
   "source": [
    "La clase `Tablero` crea de una vez el descriptor, mediante el cual podemos decodificar las letras:"
   ]
  },
  {
   "cell_type": "code",
   "execution_count": null,
   "metadata": {},
   "outputs": [],
   "source": [
    "tablero.MenC.escribir('ć')"
   ]
  },
  {
   "cell_type": "markdown",
   "metadata": {},
   "source": [
    "Observe que las fórmulas incluyen un método `ver` para visualizar más fácilmente las reglas:"
   ]
  },
  {
   "cell_type": "code",
   "execution_count": null,
   "metadata": {},
   "outputs": [],
   "source": [
    "regla1 = inorder_to_tree(t.regla)\n",
    "print(regla1.ver(t.MenC))"
   ]
  },
  {
   "cell_type": "markdown",
   "metadata": {},
   "source": [
    "Nuestra regla es realmente simple a nivel estructural, la parte mas importante se encuentra en la funcion `C_n` esta funcion devuelve una lista con todas las combinaciones en las que se pueden ubicar las minas correspondientes a una casilla.\n",
    "<br/>\n",
    "<br/>\n",
    "Visualmente es algo asi:\n",
    "<br/>\n",
    "<img src=\"./img/combinaciones.png\">"
   ]
  },
  {
   "cell_type": "code",
   "execution_count": null,
   "metadata": {},
   "outputs": [],
   "source": [
    "from Problemas import C_n\n",
    "\n",
    "for i in C_n(3,0,tablero.matriz, tablero.matriz_minas):\n",
    "    print(\"--------\")\n",
    "    for j in i:\n",
    "        print(tablero.MenC.escribir(j))"
   ]
  },
  {
   "cell_type": "markdown",
   "metadata": {},
   "source": [
    "Para crear la regla usamos una Otoria de estas combinaciones para cada casilla, unidas por una Itoria."
   ]
  },
  {
   "cell_type": "code",
   "execution_count": null,
   "metadata": {},
   "outputs": [],
   "source": [
    "\"\"\"\n",
    "Para (j, i) en las casillas destapadas:\n",
    "    for pos_comb in C_n(j, i, self.matriz, self.matriz_minas):\n",
    "        comb.append(Ytoria(pos_comb))\n",
    "    rule.append(Otoria(comb))\n",
    "\"\"\"\n",
    "\n",
    "# ......\n",
    "\n",
    "\"\"\"\n",
    "return Ytoria(rule)\n",
    "\"\"\""
   ]
  }
 ],
 "metadata": {
  "kernelspec": {
   "display_name": "Python 3.10.7 64-bit (microsoft store)",
   "language": "python",
   "name": "python3"
  },
  "language_info": {
   "codemirror_mode": {
    "name": "ipython",
    "version": 3
   },
   "file_extension": ".py",
   "mimetype": "text/x-python",
   "name": "python",
   "nbconvert_exporter": "python",
   "pygments_lexer": "ipython3",
   "version": "3.10.7"
  },
  "vscode": {
   "interpreter": {
    "hash": "9deea79bfd8769c20cdb41e577c31349975f53057f7c4a88718c49dab3f025eb"
   }
  }
 },
 "nbformat": 4,
 "nbformat_minor": 4
}
